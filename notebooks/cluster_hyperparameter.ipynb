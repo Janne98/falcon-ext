{
 "cells": [
  {
   "cell_type": "code",
   "execution_count": 16,
   "id": "015e54a7-1ba6-40d6-b1a5-8f89d68c4e56",
   "metadata": {},
   "outputs": [],
   "source": [
    "\n",
    "import os\n",
    "import math\n",
    "import random\n",
    "import functools\n",
    "import numpy as np\n",
    "import pandas as pd\n",
    "import seaborn as sns\n",
    "import matplotlib.pyplot as plt\n",
    "import matplotlib.ticker as mticker\n",
    "from typing import List, Dict, Tuple\n",
    "\n",
    "import skopt\n",
    "\n",
    "import config\n",
    "from config import *\n",
    "from ms_io import mgf_io\n",
    "from preprocessing import preprocessing\n",
    "from cluster import similarity, masking, clustering, hierarchical\n",
    "from eval import eval\n",
    "\n",
    "import warnings\n",
    "warnings.filterwarnings(\"ignore\")\n",
    "\n",
    "%matplotlib inline\n"
   ]
  },
  {
   "cell_type": "markdown",
   "id": "cf143689-1a14-428e-8adc-17d7b6daceb2",
   "metadata": {},
   "source": [
    "## Initialization"
   ]
  },
  {
   "cell_type": "code",
   "execution_count": 2,
   "id": "6aef3c7d-be1f-45b3-a5fa-17373e1eb7e3",
   "metadata": {},
   "outputs": [],
   "source": [
    "\n",
    "spectra_filename = '../data/extracted_2d16b7f8-6954-4ba1-b5fa-3c467b43227d.mgf'\n",
    "annotations_filename = '../data/annotations.tsv'\n",
    "\n",
    "distance_matrix_filename = '../distance_matrix.npz'\n",
    "\n",
    "max_prop_clust_incorrect = 0.01\n"
   ]
  },
  {
   "cell_type": "code",
   "execution_count": 3,
   "id": "71ca02f2-3674-4886-b64a-fb9dd24e7aa7",
   "metadata": {},
   "outputs": [],
   "source": [
    "\n",
    "config.parse((spectra_filename, annotations_filename))\n",
    "\n",
    "if not os.path.isfile(spectra_filename):\n",
    "    raise ValueError(f'Non-existing peak file (spectra_filename)')\n",
    "if not os.path.isfile(annotations_filename):\n",
    "    raise ValueError(f'Non-existing annotations file (annotations_filename)')\n",
    "if distance_matrix_filename is not None:\n",
    "    if not os.path.isfile(distance_matrix_filename):\n",
    "        raise ValueError(f'Non-existing distance matrix file (distance_matrix_filename)')\n",
    "\n",
    "# read file and process spectra\n",
    "raw_spectra = mgf_io.get_spectra(source=spectra_filename)\n",
    "spectra = list(preprocessing.process_all_spectra(raw_spectra, \n",
    "                                                config.min_peaks, config.min_mz_range,\n",
    "                                                config.min_mz, config.max_mz,\n",
    "                                                config.remove_precursor_tol,\n",
    "                                                config.min_intensity, \n",
    "                                                config.max_peaks_used, config.scaling))\n",
    "spectra = [spectrum for spectrum in spectra if spectrum is not None]\n",
    "spectra.sort(key=lambda x: x.precursor_mz)\n",
    "n_spectra = len(spectra)\n",
    "\n",
    "scan_idx_list = [int(spec.identifier) for spec in spectra]\n",
    "\n",
    "if distance_matrix_filename is not None:\n",
    "    # read distance matrix file and create similarity matrix\n",
    "    distance_matrix = similarity.load_matrix(distance_matrix_filename)\n",
    "    similarity_matrix = similarity.similarity_to_distance(distance_matrix)\n",
    "else:\n",
    "    # calculate pairwise mod cos similarity\n",
    "    similarity_matrix = similarity.create_mod_cos_similarity_matrix(spectra, config.fragment_tol)\n",
    "    distance_matrix = similarity.similarity_to_distance(similarity_matrix)\n",
    "    if config.export_dist_matrix:\n",
    "        similarity.save_matrix(distance_matrix, 'distance_matrix.npz')\n",
    "\n",
    "# create masked distance matrix for clustering based on precursor mass\n",
    "mask = masking.generate_mask(spectra, config.precursor_tol)\n",
    "masked_distance_matrix = similarity.similarity_to_distance(np.multiply(similarity_matrix, mask))\n",
    "# deal with floating point inaccuracy \n",
    "# np.clip results in \"ValueError: Linkage 'Z' uses the same cluster more than once.\" when plotting dendrogram\n",
    "masked_distance_matrix = np.where(masked_distance_matrix>0, masked_distance_matrix, 0)\n"
   ]
  },
  {
   "cell_type": "markdown",
   "id": "bbc5eb38-4fbd-4e20-bbe3-409c8ca617eb",
   "metadata": {},
   "source": [
    "## Hyperparameter optimization"
   ]
  },
  {
   "cell_type": "code",
   "execution_count": 4,
   "id": "994f4026-4ee4-4619-b726-c15510ae1800",
   "metadata": {},
   "outputs": [],
   "source": [
    "\n",
    "def run_clustering(eps: float, min_cluster_size: int, masked_dist_matrix: np.ndarray, \n",
    "                   annotations_file: str, idx_scan_map: List[int], cluster_method: str, \n",
    "                   linkage: str) -> Tuple[int, float, float, float]:\n",
    "    \n",
    "    cluster = clustering.generate_clusters(masked_dist_matrix, cluster_method, \n",
    "                                           linkage, eps, min_cluster_size)\n",
    "    eval_result = eval.evaluate_clustering(annotations_file, cluster, idx_scan_map)\n",
    "\n",
    "    return eval_result\n",
    "    "
   ]
  },
  {
   "cell_type": "markdown",
   "id": "623bed60-8c89-4b75-882e-b99e36ed1bb8",
   "metadata": {},
   "source": [
    "### Single linkage"
   ]
  },
  {
   "cell_type": "code",
   "execution_count": 5,
   "id": "ecc3813e-7fee-44a2-8edc-3e6d52ca7944",
   "metadata": {},
   "outputs": [],
   "source": [
    "\n",
    "run_cluster_single = functools.partial(run_clustering,\n",
    "                                    masked_dist_matrix=masked_distance_matrix,\n",
    "                                    annotations_file=annotations_filename,\n",
    "                                    idx_scan_map=scan_idx_list,\n",
    "                                    cluster_method='hierarchical',\n",
    "                                    linkage='single')\n",
    "\n",
    "def cluster_optim_single(args):\n",
    "    _, compl, prop_clust, prop_clust_incorrect = run_cluster_single(*args)\n",
    "    if prop_clust_incorrect < 0:\n",
    "        return 1\n",
    "    completeness.append(compl)\n",
    "    props_clust.append(prop_clust) \n",
    "    props_clust_incorrect.append(prop_clust_incorrect)\n",
    "    if prop_clust_incorrect > max_prop_clust_incorrect:\n",
    "        return 1\n",
    "    else:\n",
    "        return 1 - prop_clust\n",
    "\n",
    "props_clust, props_clust_incorrect, completeness = [], [], []\n",
    "optim_single = skopt.gp_minimize(cluster_optim_single,\n",
    "                          [skopt.space.Real(0.005, 0.3, name='eps'),\n",
    "                           skopt.space.Integer(2, 5, name='min_samples')],\n",
    "                          n_jobs=-1)\n",
    "\n",
    "cluster_hyperparameter_single = pd.DataFrame(\n",
    "    {'eps': np.asarray(optim_single.x_iters)[:, 0],\n",
    "     'min_samples': np.asarray(optim_single.x_iters)[:, 1],\n",
    "     'prop_clustered': props_clust,\n",
    "     'prop_clustered_incorrect': props_clust_incorrect,\n",
    "     'completeness': completeness})\n"
   ]
  },
  {
   "cell_type": "code",
   "execution_count": 6,
   "id": "db61af84-aa1f-4cce-8bd4-ee966a26723f",
   "metadata": {},
   "outputs": [
    {
     "name": "stdout",
     "output_type": "stream",
     "text": [
      "Optimal clustering hyperparameters:\n",
      "  - eps = 0.0299\n",
      "  - min_samples = 2\n",
      "-> 83.84% clustered, 0.68% clustered incorrectly 0.8950 completeness\n"
     ]
    }
   ],
   "source": [
    "\n",
    "acceptable_hyperparam_single = cluster_hyperparameter_single[\n",
    "    cluster_hyperparameter_single['prop_clustered_incorrect'] < max_prop_clust_incorrect]\n",
    "best_hyperparam_single = acceptable_hyperparam_single.loc[acceptable_hyperparam_single['prop_clustered'].idxmax()]\n",
    "\n",
    "print(f'Optimal clustering hyperparameters:\\n'\n",
    "      f'  - eps = {best_hyperparam_single[\"eps\"]:.4f}\\n'\n",
    "      f'  - min_samples = {best_hyperparam_single[\"min_samples\"]:.0f}\\n'\n",
    "      f'-> {best_hyperparam_single[\"prop_clustered\"]:.2%} clustered, '\n",
    "      f'{best_hyperparam_single[\"prop_clustered_incorrect\"]:.2%} clustered incorrectly '\n",
    "      f'{best_hyperparam_single[\"completeness\"]:.4f} completeness')\n"
   ]
  },
  {
   "cell_type": "markdown",
   "id": "127360b6-1776-43cf-8a2d-e9c425f1fceb",
   "metadata": {},
   "source": [
    "### Average linkage"
   ]
  },
  {
   "cell_type": "code",
   "execution_count": 7,
   "id": "1d3c3962-2378-4b11-9c73-668b6d87af70",
   "metadata": {},
   "outputs": [],
   "source": [
    "\n",
    "run_cluster_average = functools.partial(run_clustering,\n",
    "                                    masked_dist_matrix=masked_distance_matrix,\n",
    "                                    annotations_file=annotations_filename,\n",
    "                                    idx_scan_map=scan_idx_list,\n",
    "                                    cluster_method='hierarchical',\n",
    "                                    linkage='average')\n",
    "\n",
    "def cluster_optim_average(args):\n",
    "    _, compl, prop_clust, prop_clust_incorrect = run_cluster_average(*args)\n",
    "    if prop_clust_incorrect < 0:\n",
    "        return 1\n",
    "    completeness.append(compl)\n",
    "    props_clust.append(prop_clust) \n",
    "    props_clust_incorrect.append(prop_clust_incorrect)\n",
    "    if prop_clust_incorrect > max_prop_clust_incorrect:\n",
    "        return 1\n",
    "    else:\n",
    "        return 1 - prop_clust\n",
    "\n",
    "props_clust, props_clust_incorrect, completeness = [], [], []\n",
    "optim_average = skopt.gp_minimize(cluster_optim_average,\n",
    "                          [skopt.space.Real(0.005, 0.3, name='eps'),\n",
    "                           skopt.space.Integer(2, 5, name='min_samples')],\n",
    "                          n_jobs=-1)\n",
    "\n",
    "cluster_hyperparameter_average = pd.DataFrame(\n",
    "    {'eps': np.asarray(optim_average.x_iters)[:, 0],\n",
    "     'min_samples': np.asarray(optim_average.x_iters)[:, 1],\n",
    "     'prop_clustered': props_clust,\n",
    "     'prop_clustered_incorrect': props_clust_incorrect,\n",
    "     'completeness': completeness})\n"
   ]
  },
  {
   "cell_type": "code",
   "execution_count": 8,
   "id": "7c0ca27e-d77a-45a9-8a14-d0d3dc7622c7",
   "metadata": {},
   "outputs": [
    {
     "name": "stdout",
     "output_type": "stream",
     "text": [
      "Optimal clustering hyperparameters:\n",
      "  - eps = 0.1129\n",
      "  - min_samples = 2\n",
      "-> 90.79% clustered, 0.66% clustered incorrectly 0.9415 completeness\n"
     ]
    }
   ],
   "source": [
    "\n",
    "acceptable_hyperparam_average = cluster_hyperparameter_average[\n",
    "    cluster_hyperparameter_average['prop_clustered_incorrect'] < max_prop_clust_incorrect]\n",
    "best_hyperparam_average = acceptable_hyperparam_average.loc[acceptable_hyperparam_average['prop_clustered'].idxmax()]\n",
    "\n",
    "print(f'Optimal clustering hyperparameters:\\n'\n",
    "      f'  - eps = {best_hyperparam_average[\"eps\"]:.4f}\\n'\n",
    "      f'  - min_samples = {best_hyperparam_average[\"min_samples\"]:.0f}\\n'\n",
    "      f'-> {best_hyperparam_average[\"prop_clustered\"]:.2%} clustered, '\n",
    "      f'{best_hyperparam_average[\"prop_clustered_incorrect\"]:.2%} clustered incorrectly '\n",
    "      f'{best_hyperparam_average[\"completeness\"]:.4f} completeness')\n"
   ]
  },
  {
   "cell_type": "markdown",
   "id": "a872442d-7ee7-4846-bfdd-bc35a8201c9d",
   "metadata": {},
   "source": [
    "### Complete linkage"
   ]
  },
  {
   "cell_type": "code",
   "execution_count": 9,
   "id": "edd7ad5f-a71b-4f2a-b0fb-a3227d954cf4",
   "metadata": {},
   "outputs": [],
   "source": [
    "\n",
    "run_cluster_complete = functools.partial(run_clustering,\n",
    "                                    masked_dist_matrix=masked_distance_matrix,\n",
    "                                    annotations_file=annotations_filename,\n",
    "                                    idx_scan_map=scan_idx_list,\n",
    "                                    cluster_method='hierarchical',\n",
    "                                    linkage='complete')\n",
    "\n",
    "def cluster_optim_complete(args):\n",
    "    _, compl, prop_clust, prop_clust_incorrect = run_cluster_complete(*args)\n",
    "    if prop_clust_incorrect < 0:\n",
    "        return 1\n",
    "    completeness.append(compl)\n",
    "    props_clust.append(prop_clust) \n",
    "    props_clust_incorrect.append(prop_clust_incorrect)\n",
    "    if prop_clust_incorrect > max_prop_clust_incorrect:\n",
    "        return 1\n",
    "    else:\n",
    "        return 1 - prop_clust\n",
    "\n",
    "props_clust, props_clust_incorrect, completeness = [], [], []\n",
    "optim_complete = skopt.gp_minimize(cluster_optim_complete,\n",
    "                          [skopt.space.Real(0.005, 0.3, name='eps'),\n",
    "                           skopt.space.Integer(2, 5, name='min_samples')],\n",
    "                          n_jobs=-1)\n",
    "\n",
    "cluster_hyperparameter_complete = pd.DataFrame(\n",
    "    {'eps': np.asarray(optim_complete.x_iters)[:, 0],\n",
    "     'min_samples': np.asarray(optim_complete.x_iters)[:, 1],\n",
    "     'prop_clustered': props_clust,\n",
    "     'prop_clustered_incorrect': props_clust_incorrect,\n",
    "     'completeness': completeness})\n"
   ]
  },
  {
   "cell_type": "code",
   "execution_count": 10,
   "id": "138a48e8-548e-49dd-a018-215dbb2cfa8a",
   "metadata": {},
   "outputs": [
    {
     "name": "stdout",
     "output_type": "stream",
     "text": [
      "Optimal clustering hyperparameters:\n",
      "  - eps = 0.2116\n",
      "  - min_samples = 2\n",
      "-> 93.11% clustered, 0.66% clustered incorrectly 0.9474 completeness\n"
     ]
    }
   ],
   "source": [
    "\n",
    "acceptable_hyperparam_complete = cluster_hyperparameter_complete[\n",
    "    cluster_hyperparameter_complete['prop_clustered_incorrect'] < max_prop_clust_incorrect]\n",
    "best_hyperparam_complete = acceptable_hyperparam_complete.loc[acceptable_hyperparam_complete['prop_clustered'].idxmax()]\n",
    "\n",
    "print(f'Optimal clustering hyperparameters:\\n'\n",
    "      f'  - eps = {best_hyperparam_complete[\"eps\"]:.4f}\\n'\n",
    "      f'  - min_samples = {best_hyperparam_complete[\"min_samples\"]:.0f}\\n'\n",
    "      f'-> {best_hyperparam_complete[\"prop_clustered\"]:.2%} clustered, '\n",
    "      f'{best_hyperparam_complete[\"prop_clustered_incorrect\"]:.2%} clustered incorrectly '\n",
    "      f'{best_hyperparam_complete[\"completeness\"]:.4f} completeness')\n"
   ]
  },
  {
   "cell_type": "markdown",
   "id": "7ba95d82-d6fa-43c7-932e-6aa221692515",
   "metadata": {},
   "source": [
    "### DBSCAN"
   ]
  },
  {
   "cell_type": "code",
   "execution_count": 11,
   "id": "93ee3bbf-8d30-49a3-81c4-6b5fc671dfea",
   "metadata": {},
   "outputs": [],
   "source": [
    "\n",
    "run_cluster_dbscan = functools.partial(run_clustering,\n",
    "                                    masked_dist_matrix=masked_distance_matrix,\n",
    "                                    annotations_file=annotations_filename,\n",
    "                                    idx_scan_map=scan_idx_list,\n",
    "                                    cluster_method='DBSCAN',\n",
    "                                    linkage='')\n",
    "        \n",
    "def cluster_optim_dbscan(args):\n",
    "    _, compl, prop_clust, prop_clust_incorrect = run_cluster_dbscan(*args)\n",
    "    if prop_clust_incorrect < 0:\n",
    "        return 1\n",
    "    completeness.append(compl)\n",
    "    props_clust.append(prop_clust) \n",
    "    props_clust_incorrect.append(prop_clust_incorrect)\n",
    "    if prop_clust_incorrect > max_prop_clust_incorrect:\n",
    "        return 1\n",
    "    else:\n",
    "        return 1 - prop_clust\n",
    "\n",
    "props_clust, props_clust_incorrect, completeness = [], [], []\n",
    "optim_dbscan = skopt.gp_minimize(cluster_optim_dbscan,\n",
    "                          [skopt.space.Real(0.005, 0.3, name='eps'),\n",
    "                           skopt.space.Integer(2, 5, name='min_samples')],\n",
    "                          n_jobs=-1)\n",
    "\n",
    "cluster_hyperparameter_dbscan = pd.DataFrame(\n",
    "    {'eps': np.asarray(optim_dbscan.x_iters)[:, 0],\n",
    "     'min_samples': np.asarray(optim_dbscan.x_iters)[:, 1],\n",
    "     'prop_clustered': props_clust,\n",
    "     'prop_clustered_incorrect': props_clust_incorrect,\n",
    "     'completeness': completeness})\n"
   ]
  },
  {
   "cell_type": "code",
   "execution_count": 12,
   "id": "7c31c064-2e1b-4f47-b1aa-bbfc512fc280",
   "metadata": {},
   "outputs": [
    {
     "name": "stdout",
     "output_type": "stream",
     "text": [
      "Optimal clustering hyperparameters:\n",
      "  - eps = 0.0300\n",
      "  - min_samples = 2\n",
      "-> 83.84% clustered, 0.68% clustered incorrectly, 0.8950 completeness\n"
     ]
    }
   ],
   "source": [
    "\n",
    "acceptable_hyperparam_dbscan = cluster_hyperparameter_dbscan[\n",
    "    cluster_hyperparameter_dbscan['prop_clustered_incorrect'] < max_prop_clust_incorrect]\n",
    "best_hyperparam_dbscan = acceptable_hyperparam_dbscan.loc[acceptable_hyperparam_dbscan['prop_clustered'].idxmax()]\n",
    "\n",
    "print(f'Optimal clustering hyperparameters:\\n'\n",
    "      f'  - eps = {best_hyperparam_dbscan[\"eps\"]:.4f}\\n'\n",
    "      f'  - min_samples = {best_hyperparam_dbscan[\"min_samples\"]:.0f}\\n'\n",
    "      f'-> {best_hyperparam_dbscan[\"prop_clustered\"]:.2%} clustered, '\n",
    "      f'{best_hyperparam_dbscan[\"prop_clustered_incorrect\"]:.2%} clustered incorrectly, '\n",
    "      f'{best_hyperparam_dbscan[\"completeness\"]:.4f} completeness')\n"
   ]
  },
  {
   "cell_type": "markdown",
   "id": "79c38ba9-2f8d-4545-8fb2-593e1f9fcaf8",
   "metadata": {},
   "source": [
    "## Plot performance"
   ]
  },
  {
   "cell_type": "code",
   "execution_count": 13,
   "id": "0c09d1a8-cd95-4070-a9e7-4df0525d04ce",
   "metadata": {},
   "outputs": [],
   "source": [
    "\n",
    "def get_pareto_frontier(arr):\n",
    "    # Sort by the first column.\n",
    "    arr_sorted = arr[arr[:, 0].argsort()]\n",
    "    # Iteratively add points to the Pareto frontier.\n",
    "    pareto_idx = [0]\n",
    "    for i in range(1, arr_sorted.shape[0]):\n",
    "        if (arr_sorted[i, 0] > arr_sorted[pareto_idx[-1], 0] and\n",
    "                arr_sorted[i, 1] > arr_sorted[pareto_idx[-1], 1]):\n",
    "            pareto_idx.append(i)\n",
    "    return arr_sorted[pareto_idx]\n",
    "    "
   ]
  },
  {
   "cell_type": "markdown",
   "id": "440527a6-a39a-44d3-8b91-666225b4cc2d",
   "metadata": {},
   "source": [
    "### %clustered vs %incorrectly clustered"
   ]
  },
  {
   "cell_type": "code",
   "execution_count": 17,
   "id": "fbc5c6b5-7e9a-4fbb-a82c-943979d8cd49",
   "metadata": {},
   "outputs": [
    {
     "data": {
      "image/png": "[encoded data removed]",
      "text/plain": [
       "<Figure size 700x432.633 with 1 Axes>"
      ]
     },
     "metadata": {},
     "output_type": "display_data"
    }
   ],
   "source": [
    "\n",
    "width = 7\n",
    "height = width / 1.618    # golden ratio\n",
    "fig, ax = plt.subplots(figsize=(width, height))\n",
    "\n",
    "# Hyperparameter optimization.\n",
    "clustering_pareto_single = get_pareto_frontier(np.column_stack(\n",
    "    [cluster_hyperparameter_single['prop_clustered_incorrect'], cluster_hyperparameter_single['prop_clustered']]))\n",
    "ax.plot(clustering_pareto_single[:, 0], clustering_pareto_single[:, 1], marker='o', markersize=7, label='single')\n",
    "ax.scatter(cluster_hyperparameter_single['prop_clustered_incorrect'], cluster_hyperparameter_single['prop_clustered'], marker='.', s=49)\n",
    "\n",
    "clustering_pareto_average = get_pareto_frontier(np.column_stack(\n",
    "    [cluster_hyperparameter_average['prop_clustered_incorrect'], cluster_hyperparameter_average['prop_clustered']]))\n",
    "ax.plot(clustering_pareto_average[:, 0], clustering_pareto_average[:, 1], marker='o', markersize=7, label='average')\n",
    "ax.scatter(cluster_hyperparameter_average['prop_clustered_incorrect'], cluster_hyperparameter_average['prop_clustered'], marker='.', s=49)\n",
    "\n",
    "clustering_pareto_complete = get_pareto_frontier(np.column_stack(\n",
    "    [cluster_hyperparameter_complete['prop_clustered_incorrect'], cluster_hyperparameter_complete['prop_clustered']]))\n",
    "ax.plot(clustering_pareto_complete[:, 0], clustering_pareto_complete[:, 1], marker='o', markersize=7, label='complete')\n",
    "ax.scatter(cluster_hyperparameter_complete['prop_clustered_incorrect'], cluster_hyperparameter_complete['prop_clustered'], marker='.', s=49)\n",
    "\n",
    "clustering_pareto_dbscan = get_pareto_frontier(np.column_stack(\n",
    "    [cluster_hyperparameter_dbscan['prop_clustered_incorrect'], cluster_hyperparameter_dbscan['prop_clustered']]))\n",
    "ax.plot(clustering_pareto_dbscan[:, 0], clustering_pareto_dbscan[:, 1], marker='o', markersize=7, label='dbscan')\n",
    "ax.scatter(cluster_hyperparameter_dbscan['prop_clustered_incorrect'], cluster_hyperparameter_dbscan['prop_clustered'], marker='.', s=49)\n",
    "\n",
    "ax.axvline(max_prop_clust_incorrect, c='darkgray', ls='--')\n",
    "\n",
    "# Performance of optimal hyperparameters on validation set.\n",
    "# ax.scatter(prop_clust_incorrect_test, prop_clust_test, marker='s', s=49, label='test', zorder=10)\n",
    "\n",
    "ax.legend()\n",
    "\n",
    "ax.set_xlim(0, 0.02)\n",
    "ax.set_ylim(0, 1)\n",
    "\n",
    "ax.set_xlabel('Incorrectly clustered spectra')\n",
    "ax.set_ylabel('Clustered spectra')\n",
    "\n",
    "ax.xaxis.set_major_formatter(mticker.PercentFormatter(1))\n",
    "ax.yaxis.set_major_formatter(mticker.PercentFormatter(1))\n",
    "\n",
    "sns.despine()\n",
    "\n",
    "plt.savefig('../figures/cluster_hyperparameter_prop_clustered.png', dpi=300, bbox_inches='tight')\n",
    "plt.show()\n",
    "plt.close()\n"
   ]
  },
  {
   "cell_type": "markdown",
   "id": "944eb5e6-b39b-4fcb-acf1-1004b0808c54",
   "metadata": {},
   "source": [
    "### completeness vs %incorrectly clustered"
   ]
  },
  {
   "cell_type": "code",
   "execution_count": 18,
   "id": "2af60e51-3503-4ee7-a29d-60153eecbd98",
   "metadata": {},
   "outputs": [
    {
     "data": {
      "image/png": "[encoded data removed]",
      "text/plain": [
       "<Figure size 700x432.633 with 1 Axes>"
      ]
     },
     "metadata": {},
     "output_type": "display_data"
    }
   ],
   "source": [
    "\n",
    "width = 7\n",
    "height = width / 1.618    # golden ratio\n",
    "fig, ax = plt.subplots(figsize=(width, height))\n",
    "\n",
    "# Hyperparameter optimization.\n",
    "clustering_pareto_single = get_pareto_frontier(np.column_stack(\n",
    "    [cluster_hyperparameter_single['prop_clustered_incorrect'], cluster_hyperparameter_single['completeness']]))\n",
    "ax.plot(clustering_pareto_single[:, 0], clustering_pareto_single[:, 1], marker='o', markersize=7, label='single')\n",
    "ax.scatter(cluster_hyperparameter_single['prop_clustered_incorrect'], cluster_hyperparameter_single['completeness'], marker='.', s=49)\n",
    "\n",
    "clustering_pareto_average = get_pareto_frontier(np.column_stack(\n",
    "    [cluster_hyperparameter_average['prop_clustered_incorrect'], cluster_hyperparameter_average['completeness']]))\n",
    "ax.plot(clustering_pareto_average[:, 0], clustering_pareto_average[:, 1], marker='o', markersize=7, label='average')\n",
    "ax.scatter(cluster_hyperparameter_average['prop_clustered_incorrect'], cluster_hyperparameter_average['completeness'], marker='.', s=49)\n",
    "\n",
    "clustering_pareto_complete = get_pareto_frontier(np.column_stack(\n",
    "    [cluster_hyperparameter_complete['prop_clustered_incorrect'], cluster_hyperparameter_complete['completeness']]))\n",
    "ax.plot(clustering_pareto_complete[:, 0], clustering_pareto_complete[:, 1], marker='o', markersize=7, label='complete')\n",
    "ax.scatter(cluster_hyperparameter_complete['prop_clustered_incorrect'], cluster_hyperparameter_complete['completeness'], marker='.', s=49)\n",
    "\n",
    "clustering_pareto_dbscan = get_pareto_frontier(np.column_stack(\n",
    "    [cluster_hyperparameter_dbscan['prop_clustered_incorrect'], cluster_hyperparameter_dbscan['completeness']]))\n",
    "ax.plot(clustering_pareto_dbscan[:, 0], clustering_pareto_dbscan[:, 1], marker='o', markersize=7, label='dbscan')\n",
    "ax.scatter(cluster_hyperparameter_dbscan['prop_clustered_incorrect'], cluster_hyperparameter_dbscan['completeness'], marker='.', s=49)\n",
    "\n",
    "ax.axvline(max_prop_clust_incorrect, c='darkgray', ls='--')\n",
    "\n",
    "# Performance of optimal hyperparameters on validation set.\n",
    "# ax.scatter(prop_clust_incorrect_test, prop_clust_test, marker='s', s=49, label='test', zorder=10)\n",
    "\n",
    "ax.legend()\n",
    "\n",
    "ax.set_xlim(0, 0.02)\n",
    "ax.set_ylim(0, 1)\n",
    "\n",
    "ax.set_xlabel('Incorrectly clustered spectra')\n",
    "ax.set_ylabel('Completeness')\n",
    "\n",
    "ax.xaxis.set_major_formatter(mticker.PercentFormatter(1))\n",
    "ax.yaxis.set_major_formatter(mticker.PercentFormatter(1))\n",
    "\n",
    "sns.despine()\n",
    "\n",
    "plt.savefig('../figures/cluster_hyperparameter_completeness.png', dpi=300, bbox_inches='tight')\n",
    "plt.show()\n",
    "plt.close()\n"
   ]
  },
  {
   "cell_type": "code",
   "execution_count": null,
   "id": "cb67fb13-841c-45f4-96a5-f526d3e7cf27",
   "metadata": {},
   "outputs": [],
   "source": []
  }
 ],
 "metadata": {
  "kernelspec": {
   "display_name": "Python 3 (ipykernel)",
   "language": "python",
   "name": "python3"
  },
  "language_info": {
   "codemirror_mode": {
    "name": "ipython",
    "version": 3
   },
   "file_extension": ".py",
   "mimetype": "text/x-python",
   "name": "python",
   "nbconvert_exporter": "python",
   "pygments_lexer": "ipython3",
   "version": "3.11.5"
  }
 },
 "nbformat": 4,
 "nbformat_minor": 5
}

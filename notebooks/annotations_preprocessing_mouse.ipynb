{
 "cells": [
  {
   "cell_type": "code",
   "execution_count": 1,
   "id": "612470df-71e9-4d24-8498-81adaa21dec5",
   "metadata": {},
   "outputs": [],
   "source": [
    "import numpy as np\n",
    "import pandas as pd\n",
    "import pubchempy as pcp\n",
    "\n",
    "import re"
   ]
  },
  {
   "cell_type": "code",
   "execution_count": 2,
   "id": "0487cf0d-a9da-42af-a001-e6d6e8c5d646",
   "metadata": {},
   "outputs": [
    {
     "name": "stdout",
     "output_type": "stream",
     "text": [
      "31119\n"
     ]
    }
   ],
   "source": [
    "annotations_file = '../data/mouse_data/MOLECULAR-LIBRARYSEARCH-V2-3f27f407-download_all_identifications-main.tsv'\n",
    "annotations = pd.read_csv(annotations_file, sep='\\t')\n",
    "print(len(annotations))"
   ]
  },
  {
   "cell_type": "code",
   "execution_count": 3,
   "id": "f5f8771e-d25a-4b54-a706-864652da366c",
   "metadata": {},
   "outputs": [
    {
     "name": "stdout",
     "output_type": "stream",
     "text": [
      "14989\n"
     ]
    }
   ],
   "source": [
    "no_inchikey = annotations[annotations['InChIKey'].isnull()]\n",
    "print(len(no_inchikey))"
   ]
  },
  {
   "cell_type": "code",
   "execution_count": 4,
   "id": "8f1892ef-42f0-4366-adb6-0e73510e8da0",
   "metadata": {},
   "outputs": [
    {
     "name": "stdout",
     "output_type": "stream",
     "text": [
      "14985\n"
     ]
    }
   ],
   "source": [
    "no_inchi1 = no_inchikey[no_inchikey['INCHI'].isnull()]\n",
    "no_inchi2 = no_inchikey[no_inchikey['INCHI'] == ' ']\n",
    "no_inchi = pd.concat([no_inchi1, no_inchi2])\n",
    "print(len(no_inchi))"
   ]
  },
  {
   "cell_type": "code",
   "execution_count": 5,
   "id": "350715fd-3be3-40cf-8922-1bcb2f8227ea",
   "metadata": {},
   "outputs": [
    {
     "name": "stdout",
     "output_type": "stream",
     "text": [
      "14985\n"
     ]
    }
   ],
   "source": [
    "no_smiles1 = no_inchi[no_inchi['Smiles'].isnull()]\n",
    "no_smiles2 = no_inchi[no_inchi['Smiles'] == ' ']\n",
    "no_smiles = pd.concat([no_smiles1, no_smiles2])\n",
    "print(len(no_smiles))"
   ]
  },
  {
   "cell_type": "code",
   "execution_count": 6,
   "id": "b329661f-4ea0-41b0-9419-1083f2b3eb44",
   "metadata": {},
   "outputs": [
    {
     "data": {
      "text/plain": [
       "0"
      ]
     },
     "execution_count": 6,
     "metadata": {},
     "output_type": "execute_result"
    }
   ],
   "source": [
    "no_name = no_smiles[no_smiles['Compound_Name'].isnull()]\n",
    "len(no_name)"
   ]
  },
  {
   "cell_type": "code",
   "execution_count": 7,
   "id": "c70d58a8-1b48-43e3-ae76-fe69cfe0a960",
   "metadata": {},
   "outputs": [
    {
     "data": {
      "text/plain": [
       "264"
      ]
     },
     "execution_count": 7,
     "metadata": {},
     "output_type": "execute_result"
    }
   ],
   "source": [
    "compound_queries = pd.unique(no_smiles['Compound_Name'])\n",
    "len(compound_queries)"
   ]
  },
  {
   "cell_type": "code",
   "execution_count": 8,
   "id": "5327305b-a117-4a5c-a861-de2eb838b518",
   "metadata": {},
   "outputs": [],
   "source": [
    "def _compound_name_cleaning(compound_names: np.ndarray) -> pd.DataFrame:\n",
    "\n",
    "    compound_names['Compound_Name'] = compound_names['Compound_Name'].str.replace('Spectral Match to ', '')\n",
    "    compound_names['Compound_Name'] = compound_names['Compound_Name'].str.replace(' from NIST14', '')\n",
    "    compound_names['Compound_Name'] = compound_names['Compound_Name'].str.replace(r'Massbank:PR[0-9*] ', '', regex=True)\n",
    "    compound_names['Compound_Name'] = compound_names['Compound_Name'].str.replace(r'\\|.*', '', regex=True)\n",
    "    compound_names['Compound_Name'] = compound_names['Compound_Name'].str.replace(r'; \\[M\\+H\\].*', '', regex=True)\n",
    "    compound_names['Compound_Name'] = compound_names['Compound_Name'].str.replace(r'PC\\(.*\\) - ', '', regex=True)\n",
    "\n",
    "    return compound_names"
   ]
  },
  {
   "cell_type": "code",
   "execution_count": 9,
   "id": "25758d7f-20e6-4a92-9d46-3024f0198daa",
   "metadata": {},
   "outputs": [
    {
     "name": "stderr",
     "output_type": "stream",
     "text": [
      "/tmp/ipykernel_359567/913754605.py:3: SettingWithCopyWarning: \n",
      "A value is trying to be set on a copy of a slice from a DataFrame.\n",
      "Try using .loc[row_indexer,col_indexer] = value instead\n",
      "\n",
      "See the caveats in the documentation: https://pandas.pydata.org/pandas-docs/stable/user_guide/indexing.html#returning-a-view-versus-a-copy\n",
      "  compound_names['Compound_Name'] = compound_names['Compound_Name'].str.replace('Spectral Match to ', '')\n",
      "/tmp/ipykernel_359567/913754605.py:4: SettingWithCopyWarning: \n",
      "A value is trying to be set on a copy of a slice from a DataFrame.\n",
      "Try using .loc[row_indexer,col_indexer] = value instead\n",
      "\n",
      "See the caveats in the documentation: https://pandas.pydata.org/pandas-docs/stable/user_guide/indexing.html#returning-a-view-versus-a-copy\n",
      "  compound_names['Compound_Name'] = compound_names['Compound_Name'].str.replace(' from NIST14', '')\n",
      "/tmp/ipykernel_359567/913754605.py:5: SettingWithCopyWarning: \n",
      "A value is trying to be set on a copy of a slice from a DataFrame.\n",
      "Try using .loc[row_indexer,col_indexer] = value instead\n",
      "\n",
      "See the caveats in the documentation: https://pandas.pydata.org/pandas-docs/stable/user_guide/indexing.html#returning-a-view-versus-a-copy\n",
      "  compound_names['Compound_Name'] = compound_names['Compound_Name'].str.replace(r'Massbank:PR[0-9*] ', '', regex=True)\n",
      "/tmp/ipykernel_359567/913754605.py:6: SettingWithCopyWarning: \n",
      "A value is trying to be set on a copy of a slice from a DataFrame.\n",
      "Try using .loc[row_indexer,col_indexer] = value instead\n",
      "\n",
      "See the caveats in the documentation: https://pandas.pydata.org/pandas-docs/stable/user_guide/indexing.html#returning-a-view-versus-a-copy\n",
      "  compound_names['Compound_Name'] = compound_names['Compound_Name'].str.replace(r'\\|.*', '', regex=True)\n",
      "/tmp/ipykernel_359567/913754605.py:7: SettingWithCopyWarning: \n",
      "A value is trying to be set on a copy of a slice from a DataFrame.\n",
      "Try using .loc[row_indexer,col_indexer] = value instead\n",
      "\n",
      "See the caveats in the documentation: https://pandas.pydata.org/pandas-docs/stable/user_guide/indexing.html#returning-a-view-versus-a-copy\n",
      "  compound_names['Compound_Name'] = compound_names['Compound_Name'].str.replace(r'; \\[M\\+H\\].*', '', regex=True)\n",
      "/tmp/ipykernel_359567/913754605.py:8: SettingWithCopyWarning: \n",
      "A value is trying to be set on a copy of a slice from a DataFrame.\n",
      "Try using .loc[row_indexer,col_indexer] = value instead\n",
      "\n",
      "See the caveats in the documentation: https://pandas.pydata.org/pandas-docs/stable/user_guide/indexing.html#returning-a-view-versus-a-copy\n",
      "  compound_names['Compound_Name'] = compound_names['Compound_Name'].str.replace(r'PC\\(.*\\) - ', '', regex=True)\n"
     ]
    },
    {
     "name": "stdout",
     "output_type": "stream",
     "text": [
      "195\n",
      "70\n"
     ]
    }
   ],
   "source": [
    "# create lookup table for annotations without inchikey\n",
    "compound_queries_clean = pd.unique(_compound_name_cleaning(no_inchikey)['Compound_Name']) # compounds to query\n",
    "\n",
    "lookup_table = pd.DataFrame(columns=['Compound_Name', 'InChIKey'])\n",
    "not_found_list = []\n",
    "\n",
    "for cn in compound_queries_clean:\n",
    "    try: \n",
    "        compound = pcp.get_compounds(cn, 'name')[0]\n",
    "        inchikey = compound.inchikey\n",
    "        lookup_table.loc[len(lookup_table.index)] = {'Compound_Name': cn, 'InChIKey': inchikey}\n",
    "    except Exception as e:\n",
    "        not_found_list.append(cn)\n",
    "\n",
    "print(len(lookup_table))\n",
    "print(len(not_found_list))"
   ]
  },
  {
   "cell_type": "code",
   "execution_count": 10,
   "id": "012d69cc-b8f1-486a-819e-921a5e5452e3",
   "metadata": {},
   "outputs": [],
   "source": [
    "def lookup_inchikey(row, lookup_table):\n",
    "    if str(row['InChIKey']) == 'nan':\n",
    "        if row['Compound_Name'] in lookup_table['Compound_Name'].values:\n",
    "            return (lookup_table[lookup_table['Compound_Name'] == row['Compound_Name']])['InChIKey'].values[0]\n",
    "        else:\n",
    "            return np.nan\n",
    "    else:\n",
    "        return row['InChIKey']"
   ]
  },
  {
   "cell_type": "code",
   "execution_count": 51,
   "id": "876ce197-86ff-4620-9437-a6603d7bfcfb",
   "metadata": {},
   "outputs": [],
   "source": [
    "annotations_clean = _compound_name_cleaning(annotations)\n",
    "annotations_clean['InChIKey'] = annotations_clean.apply(lambda r: lookup_inchikey(r, lookup_table), axis=1)\n",
    "annotations_clean_drop = annotations_clean.dropna(subset=['InChIKey'])"
   ]
  },
  {
   "cell_type": "code",
   "execution_count": 52,
   "id": "00a5e157-172e-4f9b-a585-cb50accc7236",
   "metadata": {},
   "outputs": [
    {
     "name": "stdout",
     "output_type": "stream",
     "text": [
      "3670\n"
     ]
    }
   ],
   "source": [
    "print(len(annotations_clean[annotations_clean['InChIKey'].isna()]))"
   ]
  },
  {
   "cell_type": "code",
   "execution_count": 54,
   "id": "49ab0aef-9a52-44a2-a37b-8a88e8b3bf6b",
   "metadata": {},
   "outputs": [],
   "source": [
    "def extract_inchi_planar(row):\n",
    "    try:\n",
    "        return row['InChIKey'].split('-')[0]\n",
    "    except:\n",
    "        print(row['InChIKey'])\n",
    "        print(row.dropna())"
   ]
  },
  {
   "cell_type": "code",
   "execution_count": 55,
   "id": "4b4c3be7-40e4-4786-b70a-585da92d7ca2",
   "metadata": {},
   "outputs": [
    {
     "name": "stderr",
     "output_type": "stream",
     "text": [
      "/tmp/ipykernel_359567/210177527.py:1: SettingWithCopyWarning: \n",
      "A value is trying to be set on a copy of a slice from a DataFrame.\n",
      "Try using .loc[row_indexer,col_indexer] = value instead\n",
      "\n",
      "See the caveats in the documentation: https://pandas.pydata.org/pandas-docs/stable/user_guide/indexing.html#returning-a-view-versus-a-copy\n",
      "  annotations_clean_drop.loc[:,'inchikey_p1'] = annotations_clean_drop.apply(lambda r: extract_inchi_planar(r), axis=1)\n"
     ]
    }
   ],
   "source": [
    "annotations_clean_drop.loc[:,'inchikey_p1'] = annotations_clean_drop.apply(lambda r: extract_inchi_planar(r), axis=1)"
   ]
  },
  {
   "cell_type": "code",
   "execution_count": 56,
   "id": "26f9c983-128c-4123-8643-9d76540aacf4",
   "metadata": {},
   "outputs": [],
   "source": [
    "annotations_clean_drop.to_csv('../data/mouse_data/annotations.tsv', sep='\\t')"
   ]
  },
  {
   "cell_type": "code",
   "execution_count": null,
   "id": "083b66e7-e905-4c63-9122-b8b20c8c8c57",
   "metadata": {},
   "outputs": [],
   "source": []
  }
 ],
 "metadata": {
  "kernelspec": {
   "display_name": "Python 3 (ipykernel)",
   "language": "python",
   "name": "python3"
  },
  "language_info": {
   "codemirror_mode": {
    "name": "ipython",
    "version": 3
   },
   "file_extension": ".py",
   "mimetype": "text/x-python",
   "name": "python",
   "nbconvert_exporter": "python",
   "pygments_lexer": "ipython3",
   "version": "3.11.5"
  }
 },
 "nbformat": 4,
 "nbformat_minor": 5
}

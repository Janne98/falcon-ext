{
 "cells": [
  {
   "cell_type": "code",
   "execution_count": 1,
   "id": "93848191-a587-45d4-8c21-62ec390b934b",
   "metadata": {},
   "outputs": [],
   "source": [
    "\n",
    "import os\n",
    "import math\n",
    "import random\n",
    "import functools\n",
    "import numpy as np\n",
    "import pandas as pd\n",
    "import seaborn as sns\n",
    "import matplotlib.pyplot as plt\n",
    "import matplotlib.ticker as mticker\n",
    "from typing import List, Dict, Tuple\n",
    "\n",
    "import skopt\n",
    "\n",
    "import config\n",
    "from config import *\n",
    "from ms_io import mgf_io\n",
    "from preprocessing import preprocessing\n",
    "from cluster import similarity, masking, clustering, hierarchical\n",
    "from eval import eval\n",
    "\n",
    "import warnings\n",
    "warnings.filterwarnings(\"ignore\")\n"
   ]
  },
  {
   "cell_type": "code",
   "execution_count": 2,
   "id": "be899f28-00c7-4fd4-a676-c2bcb9128859",
   "metadata": {},
   "outputs": [],
   "source": [
    "\n",
    "spectra_filename = '../data/extracted_2d16b7f8-6954-4ba1-b5fa-3c467b43227d.mgf'\n",
    "annotations_filename = '../data/annotations.tsv'\n",
    "\n",
    "distance_matrix_filename = '../distance_matrix.npz'\n",
    "\n",
    "best_config = ('complete', 0.005444, 2) # (linkage, eps, min_samples)\n"
   ]
  },
  {
   "cell_type": "code",
   "execution_count": 3,
   "id": "f72cdc78-3910-480d-b656-40b831cd9a63",
   "metadata": {},
   "outputs": [],
   "source": [
    "\n",
    "config.parse((spectra_filename, annotations_filename))\n",
    "\n",
    "if not os.path.isfile(spectra_filename):\n",
    "    raise ValueError(f'Non-existing peak file (spectra_filename)')\n",
    "if not os.path.isfile(annotations_filename):\n",
    "    raise ValueError(f'Non-existing annotations file (annotations_filename)')\n",
    "if distance_matrix_filename is not None:\n",
    "    if not os.path.isfile(distance_matrix_filename):\n",
    "        raise ValueError(f'Non-existing distance matrix file (distance_matrix_filename)')\n",
    "\n",
    "# read file and process spectra\n",
    "raw_spectra = mgf_io.get_spectra(source=spectra_filename)\n",
    "spectra = list(preprocessing.process_all_spectra(raw_spectra, \n",
    "                                                config.min_peaks, config.min_mz_range,\n",
    "                                                config.min_mz, config.max_mz,\n",
    "                                                config.remove_precursor_tol,\n",
    "                                                config.min_intensity, \n",
    "                                                config.max_peaks_used, config.scaling))\n",
    "spectra = [spectrum for spectrum in spectra if spectrum is not None]\n",
    "spectra.sort(key=lambda x: x.precursor_mz)\n",
    "n_spectra = len(spectra)\n",
    "\n",
    "scan_idx_list = [int(spec.identifier) for spec in spectra]\n",
    "\n",
    "if distance_matrix_filename is not None:\n",
    "    # read distance matrix file and create similarity matrix\n",
    "    distance_matrix = similarity.load_matrix(distance_matrix_filename)\n",
    "    similarity_matrix = similarity.similarity_to_distance(distance_matrix)\n",
    "else:\n",
    "    # calculate pairwise mod cos similarity\n",
    "    similarity_matrix = similarity.create_mod_cos_similarity_matrix(spectra, config.fragment_tol)\n",
    "    distance_matrix = similarity.similarity_to_distance(similarity_matrix)\n",
    "    if config.export_dist_matrix:\n",
    "        similarity.save_matrix(distance_matrix, 'distance_matrix.npz')\n",
    "\n",
    "# create masked distance matrix for clustering based on precursor mass\n",
    "mask = masking.generate_mask(spectra, config.precursor_tol)\n",
    "masked_distance_matrix = similarity.similarity_to_distance(np.multiply(similarity_matrix, mask))\n",
    "# deal with floating point inaccuracy \n",
    "# np.clip results in \"ValueError: Linkage 'Z' uses the same cluster more than once.\" when plotting dendrogram\n",
    "masked_distance_matrix = np.where(masked_distance_matrix>0, masked_distance_matrix, 0)\n"
   ]
  },
  {
   "cell_type": "code",
   "execution_count": 9,
   "id": "0e1b8401-629f-4b0b-9135-76fd5261bfd0",
   "metadata": {},
   "outputs": [
    {
     "name": "stdout",
     "output_type": "stream",
     "text": [
      "(197, 0.5974107024513716, 0.6141953619114546, 0.0)\n"
     ]
    }
   ],
   "source": [
    "\n",
    "# config.plot_dendrogram = True\n",
    "best_cluster = clustering.generate_clusters(masked_distance_matrix, 'hierarchical', best_config[0], best_config[1], best_config[2])\n",
    "performance = eval.evaluate_clustering(annotations_filename, best_cluster, scan_idx_list)\n",
    "print(performance)\n",
    "\n",
    "annotations = eval._read_tsv_file(annotations_filename)\n",
    "annotations_subset = annotations[annotations['#Scan#'].isin(scan_idx_list)]\n",
    "identified_scan_idx = eval._get_identified_spectra(annotations_subset)\n",
    "true_labels = eval._get_spectrum_labels(annotations_subset)\n",
    "\n",
    "pred_labels = best_cluster.labels\n",
    "pred_labels_identified = [pred_labels[scan_idx_list.index(scan_id)] for scan_id in identified_scan_idx]\n"
   ]
  },
  {
   "cell_type": "code",
   "execution_count": 12,
   "id": "60b9ead5-920c-484d-a6f1-4eaad0f1a012",
   "metadata": {},
   "outputs": [],
   "source": [
    "\n",
    "for label in np.unique(pred_labels_identified):\n",
    "    # skip noise\n",
    "    if label == -1:\n",
    "        continue\n",
    "    # get idx of all spectra in cluster\n",
    "    cluster_members = [idx for idx, pred_label in enumerate(pred_labels_identified) if pred_label == label]\n",
    "    members_true_labels = np.array(true_labels)[cluster_members]\n",
    "    true_compound_labels = annotations.loc[annotations['inchikey_p1'].isin(members_true_labels)]\n",
    "    if len(np.unique(members_true_labels)) > 1:\n",
    "        unique_true_labels = true_compound_labels[['inchikey_p1', 'Compound_Name']].drop_duplicates(subset='inchikey_p1')\n",
    "        print(unique_true_labels)\n",
    "        print()\n",
    "        # print(np.unique(true_compound_labels['Compound_Name'], return_counts=True))\n",
    "        # print(np.unique(members_true_labels, return_counts=True))\n",
    "    # print(np.unique(true_compound_labels, return_counts=True))\n",
    "    "
   ]
  },
  {
   "cell_type": "code",
   "execution_count": null,
   "id": "d52f399a-9223-4c98-98ff-5ada97252471",
   "metadata": {},
   "outputs": [],
   "source": []
  }
 ],
 "metadata": {
  "kernelspec": {
   "display_name": "Python 3 (ipykernel)",
   "language": "python",
   "name": "python3"
  },
  "language_info": {
   "codemirror_mode": {
    "name": "ipython",
    "version": 3
   },
   "file_extension": ".py",
   "mimetype": "text/x-python",
   "name": "python",
   "nbconvert_exporter": "python",
   "pygments_lexer": "ipython3",
   "version": "3.11.5"
  }
 },
 "nbformat": 4,
 "nbformat_minor": 5
}
